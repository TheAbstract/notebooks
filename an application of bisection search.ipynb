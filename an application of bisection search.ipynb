{
 "cells": [
  {
   "cell_type": "markdown",
   "metadata": {},
   "source": [
    "# An Application of Bisection Search\n",
    "\n",
    "\n",
    "Problems that have a finite solution space can be solved using enumeration. The basic idea behind enumeration is this; given some problem with a finite set of possible solutions\n",
    "\n",
    "* guess a value for the solution\n",
    "* check if the solution is correct\n",
    "* keep guessing until you fund the correct solution or exhausted all possible guesses\n",
    "\n",
    "\n",
    "## Finding cube roots\n",
    "\n",
    "Suppose we want to find the cube root of any non-negative integer $k$? Using exhaustive enumeration we could start with a guess, check how good this guess is, then make some modification to generate successive guesses. We can't guarantee an exact answer but we can look for something close enough; that is,\n",
    "$$\n",
    "    k_g^3 - cube \\le \\epsilon.\n",
    "$$\n",
    "\n",
    "> **Note:** This approach has an issue; decreasing the increment size $\\epsilon$, results in a slower program but increasing $\\epsilon$ results in less accurate answers. "
   ]
  },
  {
   "cell_type": "code",
   "execution_count": 1,
   "metadata": {},
   "outputs": [],
   "source": [
    "def cube_root(k, t):\n",
    "    '''\n",
    "    Given a non-negative integer k and tolerance t (float).\n",
    "    Computes approximate cube root of k.\n",
    "    '''\n",
    "    guess = 0.0; increment = 0.01; num_guesses = 0\n",
    "\n",
    "    while abs(guess**3 - k) >= t and guess <= k:\n",
    "        guess += increment\n",
    "        num_guesses += 1\n",
    "    print('Number of guesses =', num_guesses)\n",
    "    if abs(guess**3 - k) >= t:\n",
    "        print('Failed on cube root of', k)\n",
    "    else:\n",
    "         print(guess, 'is close to the cube root of', k)"
   ]
  },
  {
   "cell_type": "code",
   "execution_count": 2,
   "metadata": {},
   "outputs": [
    {
     "name": "stdout",
     "output_type": "stream",
     "text": [
      "Number of guesses = 500\n",
      "4.999999999999938 is close to the cube root of 125\n"
     ]
    }
   ],
   "source": [
    "cube_root(125, 0.01)"
   ]
  },
  {
   "cell_type": "markdown",
   "metadata": {},
   "source": [
    "## Using bisection search\n",
    "\n",
    "We know that the square root of a number $x$ lies between 1 and $x$; that is,\n",
    "$$\n",
    "1 \\le \\sqrt{x} \\le x.\n",
    "$$\n",
    "Using bisection search we can take as our initial guess the middle of this range. Then\n",
    "* if $g_1^2 > x$, then $g_1$ is too big and we can ignore all values larger than this,\n",
    "* if $g_1^2 < x$, then $g_1$ is too small and we ignore all values smaller than $g_1$.\n",
    "\n",
    "At each successive stage the search space is reduced by half. This idea can be used to improve the `cubeRoot` function."
   ]
  },
  {
   "cell_type": "code",
   "execution_count": 3,
   "metadata": {},
   "outputs": [],
   "source": [
    "def cube_root_bisection(k, t):\n",
    "    '''\n",
    "    Given a non-negative integer k and tolerance t (float).\n",
    "    Computes approximate cube root of k.\n",
    "    '''\n",
    "    # Define bounds\n",
    "    low = 0; high = k; guess = (high + low)/2\n",
    "\n",
    "    num_guesses = 0\n",
    "    while abs(guess**3 - k) >= t:\n",
    "        if guess**3 < k:\n",
    "            low = guess\n",
    "        else:\n",
    "            high = guess\n",
    "        guess = (high + low)/2\n",
    "        num_guesses += 1\n",
    "\n",
    "    print('The number of guesses =', num_guesses, '\\n' \\\n",
    "          'The cube root of', k, 'is approximately', guess)"
   ]
  },
  {
   "cell_type": "code",
   "execution_count": 4,
   "metadata": {},
   "outputs": [
    {
     "name": "stdout",
     "output_type": "stream",
     "text": [
      "The number of guesses = 16 \n",
      "The cube root of 125 is approximately 5.000114440917969\n"
     ]
    }
   ],
   "source": [
    "cube_root_bisection(125, 0.01)"
   ]
  },
  {
   "cell_type": "markdown",
   "metadata": {},
   "source": [
    "Bisection only needed 16 guesses while enumeration took 500 guesses to converge on a answer!\n",
    "\n",
    "## Bisection search convergence\n",
    "\n",
    "The search space\n",
    "* 1st guess = $N/2$\n",
    "* 2nd guess = $N/4$\n",
    "* 3rd guess = $N/8$\n",
    "* ...\n",
    "* nth guess = $N/2^n$\n",
    "\n",
    "converges on the order of $\\log_2 N$ steps. Bisection search reduces computation time significantly.\n",
    "\n",
    "Bisection works well when the value of a function varies monotonically with input; this basically means it has some _ordering_ property."
   ]
  },
  {
   "cell_type": "markdown",
   "metadata": {},
   "source": [
    "---"
   ]
  }
 ],
 "metadata": {
  "kernelspec": {
   "display_name": "Python 3",
   "language": "python",
   "name": "python3"
  },
  "language_info": {
   "codemirror_mode": {
    "name": "ipython",
    "version": 3
   },
   "file_extension": ".py",
   "mimetype": "text/x-python",
   "name": "python",
   "nbconvert_exporter": "python",
   "pygments_lexer": "ipython3",
   "version": "3.7.6"
  }
 },
 "nbformat": 4,
 "nbformat_minor": 2
}
