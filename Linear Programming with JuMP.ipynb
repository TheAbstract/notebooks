{
 "cells": [
  {
   "cell_type": "markdown",
   "metadata": {},
   "source": [
    "# 1 An Introduction JuMP\n",
    "\n",
    "Let's consider a trivial LP to introduce the basics of JuMP.\n",
    "\n",
    "\\begin{matrix}\n",
    "\\min & z = x_1 + x_2 & \\\\\n",
    "\\text{s.t.} & & \\\\\n",
    "    & x_1 + x_2 \\le 1 \\\\\n",
    "\\text{and} & x_1, x_2 \\geq 0.\n",
    "\\end{matrix}"
   ]
  },
  {
   "cell_type": "code",
   "execution_count": 1,
   "metadata": {},
   "outputs": [],
   "source": [
    "using JuMP, GLPK"
   ]
  },
  {
   "cell_type": "markdown",
   "metadata": {},
   "source": [
    "Defining our model.\n",
    " \n",
    "*Model* is a type defined by JuMP. The objective function, all variables and constraints are associated with a unique model object."
   ]
  },
  {
   "cell_type": "code",
   "execution_count": 2,
   "metadata": {
    "scrolled": true
   },
   "outputs": [
    {
     "data": {
      "text/latex": [
       "$ x_1 + x_2 \\leq 1.0 $"
      ],
      "text/plain": [
       "x_1 + x_2 ≤ 1.0"
      ]
     },
     "execution_count": 2,
     "metadata": {},
     "output_type": "execute_result"
    }
   ],
   "source": [
    "m = Model(with_optimizer(GLPK.Optimizer))\n",
    "@variable(m, x_1 >= 0)\n",
    "@variable(m, x_2 >= 0)\n",
    "@objective(m, Min, x_1 + x_2)\n",
    "@constraint(m, x_1 + x_2 <= 1)\n",
    ";"
   ]
  },
  {
   "cell_type": "markdown",
   "metadata": {},
   "source": [
    "We can print our model to see what it looks like."
   ]
  },
  {
   "cell_type": "code",
   "execution_count": 3,
   "metadata": {
    "scrolled": false
   },
   "outputs": [
    {
     "name": "stdout",
     "output_type": "stream",
     "text": [
      "The LP to be solved is:\n"
     ]
    },
    {
     "data": {
      "text/latex": [
       "$$ \\begin{alignat*}{1}\\min\\quad & x_1 + x_2\\\\\n",
       "\\text{Subject to} \\quad & x_1 \\geq 0.0\\\\\n",
       " & x_2 \\geq 0.0\\\\\n",
       " & x_1 + x_2 \\leq 1.0\\\\\n",
       "\\end{alignat*}\n",
       " $$"
      ],
      "text/plain": [
       "A JuMP Model\n",
       "Minimization problem with:\n",
       "Variables: 2\n",
       "Objective function type: GenericAffExpr{Float64,VariableRef}\n",
       "`VariableRef`-in-`MathOptInterface.GreaterThan{Float64}`: 2 constraints\n",
       "`GenericAffExpr{Float64,VariableRef}`-in-`MathOptInterface.LessThan{Float64}`: 1 constraint\n",
       "Model mode: AUTOMATIC\n",
       "CachingOptimizer state: EMPTY_OPTIMIZER\n",
       "Solver name: GLPK\n",
       "Names registered in the model: x_1, x_2"
      ]
     },
     "execution_count": 3,
     "metadata": {},
     "output_type": "execute_result"
    }
   ],
   "source": [
    "println(\"The LP to be solved is:\")\n",
    "m"
   ]
  },
  {
   "cell_type": "markdown",
   "metadata": {},
   "source": [
    "Now we solve the model."
   ]
  },
  {
   "cell_type": "code",
   "execution_count": 5,
   "metadata": {},
   "outputs": [
    {
     "name": "stdout",
     "output_type": "stream",
     "text": [
      "Solution;\n",
      "Objective value: 0.0\n",
      "x_1 = 0.0\n",
      "x_2 = 0.0\n"
     ]
    }
   ],
   "source": [
    "optimize!(m)\n",
    "println(\"Solution;\")\n",
    "println(\"Objective value: \", objective_value(m))\n",
    "println(\"x_1 = \", value(x_1))\n",
    "println(\"x_2 = \", value(x_2))"
   ]
  },
  {
   "cell_type": "markdown",
   "metadata": {},
   "source": [
    "# 2 General Problems\n",
    "## 2.1 A production and distribution problem\n",
    "\n",
    "Firm ABC has two production plants located in different parts of the country which must produce and distribute a product to three regional warehouses.\n",
    "Plant one has unit production costs of R4,5 and production capacity of 2000 units. Plant two has unit production costs of R6 and a production capacity if 3000 units.\n",
    "The three warehouses have demands of 500, 2000 and 900 units of the product respectively.\n",
    "\n",
    "The transportation costs per unit are as follows;\n",
    "\n",
    " \n",
    " From Plant | To Warehouse 1 | To Warehouse 2 | To Warehouse 3\n",
    " ---------- | -------------- | -------------- | --------------\n",
    " A          | 1,3            | 1,9            | 1,8\n",
    " B          | 1,7            | 1,2            | 1,4\n",
    "\n",
    "The problem is how to meet all demand while minimising total production and distribution costs.\n",
    "\n",
    "\n",
    "### Modelling the problem\n",
    "We model the problem by first defining the data that is given, next we build the model with the associated objective, variables and constraints."
   ]
  },
  {
   "cell_type": "code",
   "execution_count": 6,
   "metadata": {
    "scrolled": true
   },
   "outputs": [
    {
     "name": "stdout",
     "output_type": "stream",
     "text": [
      "THE LP TO BE SOVLVED IS:\n"
     ]
    },
    {
     "data": {
      "text/latex": [
       "$$ \\begin{alignat*}{1}\\min\\quad & 5.8 send_{1,1} + 6.4 send_{1,2} + 6.3 send_{1,3} + 7.7 send_{2,1} + 7.2 send_{2,2} + 7.4 send_{2,3}\\\\\n",
       "\\text{Subject to} \\quad & send_{1,1} \\geq 0.0\\\\\n",
       " & send_{1,2} \\geq 0.0\\\\\n",
       " & send_{1,3} \\geq 0.0\\\\\n",
       " & send_{2,1} \\geq 0.0\\\\\n",
       " & send_{2,2} \\geq 0.0\\\\\n",
       " & send_{2,3} \\geq 0.0\\\\\n",
       " & send_{1,1} + send_{2,1} = 500.0\\\\\n",
       " & send_{1,2} + send_{2,2} = 2000.0\\\\\n",
       " & send_{1,3} + send_{2,3} = 900.0\\\\\n",
       " & send_{1,1} + send_{1,2} + send_{1,3} \\leq 2000.0\\\\\n",
       " & send_{2,1} + send_{2,2} + send_{2,3} \\leq 3000.0\\\\\n",
       "\\end{alignat*}\n",
       " $$"
      ],
      "text/plain": [
       "A JuMP Model\n",
       "Minimization problem with:\n",
       "Variables: 6\n",
       "Objective function type: GenericAffExpr{Float64,VariableRef}\n",
       "`VariableRef`-in-`MathOptInterface.GreaterThan{Float64}`: 6 constraints\n",
       "`GenericAffExpr{Float64,VariableRef}`-in-`MathOptInterface.EqualTo{Float64}`: 3 constraints\n",
       "`GenericAffExpr{Float64,VariableRef}`-in-`MathOptInterface.LessThan{Float64}`: 2 constraints\n",
       "Model mode: AUTOMATIC\n",
       "CachingOptimizer state: EMPTY_OPTIMIZER\n",
       "Solver name: GLPK\n",
       "Names registered in the model: send"
      ]
     },
     "execution_count": 6,
     "metadata": {},
     "output_type": "execute_result"
    }
   ],
   "source": [
    "# Defining the model data.\n",
    "origin = [\"Plant A\", \"Plant B\"]\n",
    "destination = [\"Warehouse 1\", \"Warehouse 2\", \"Warehouse 3\"]\n",
    "\n",
    "supply = [2000 3000]\n",
    "demand = [500 2000 900]\n",
    "\n",
    "total_cost = [\n",
    "    5.8 6.4 6.3;\n",
    "    7.7 7.2 7.4\n",
    "]\n",
    "\n",
    "# Building the model.\n",
    "ModelABC = Model(with_optimizer(GLPK.Optimizer))\n",
    "\n",
    "@variable(ModelABC, send[1:length(origin), 1:length(destination)] >= 0)\n",
    "\n",
    "@objective(ModelABC, Min, sum(total_cost[i, j] * send[i, j] for i in 1:length(origin), j in 1:length(destination)))\n",
    "\n",
    "@constraint(ModelABC, [i in 1:length(origin)], sum(send[i, j] for j in 1:length(destination)) <= supply[i])\n",
    "@constraint(ModelABC, [j in 1:length(destination)], sum(send[i, j] for i in 1:length(origin)) == demand[j])\n",
    "\n",
    "# Display model for sanity check!\n",
    "println(\"THE LP TO BE SOVLVED IS:\")\n",
    "ModelABC"
   ]
  },
  {
   "cell_type": "markdown",
   "metadata": {},
   "source": [
    "### Solving the model\n",
    "The code below the status call prints the results in an intelligible form."
   ]
  },
  {
   "cell_type": "code",
   "execution_count": 16,
   "metadata": {},
   "outputs": [
    {
     "name": "stdout",
     "output_type": "stream",
     "text": [
      "Optimal objective value: 22490.0\n",
      "From Plant A:\n",
      " send 500.0 to Warehouse 1\n",
      " send 600.0 to Warehouse 2\n",
      " send 900.0 to Warehouse 3\n",
      "From Plant B:\n",
      " send 0.0 to Warehouse 1\n",
      " send 1400.0 to Warehouse 2\n",
      " send 0.0 to Warehouse 3\n"
     ]
    }
   ],
   "source": [
    "optimize!(ModelABC)\n",
    "\n",
    "if termination_status(ModelABC) == MOI.OPTIMAL\n",
    "    println(\"Optimal objective value: $(objective_value(ModelABC))\")\n",
    "    for i in 1:length(origin)\n",
    "        println(\"From $(origin[i]):\")\n",
    "        for j in 1:length(destination)\n",
    "            println(\" send $(value(send[i, j])) to $(destination[j])\")\n",
    "        end\n",
    "    end\n",
    "else\n",
    "    println(\"No solution\")\n",
    "end"
   ]
  },
  {
   "cell_type": "markdown",
   "metadata": {},
   "source": [
    "## 2.2 A Diet \"Problem\"\n",
    "\n",
    "The following problem is taken from Operations Research - Applications And Algorithms 4th edition Winston, Wayne L which I'll simply refer to as _Winston_ going forward.\n",
    "\n",
    "Except from chapter 3 of _Winston_;\n",
    "My diet requires that all the food I eat come from one of the four “basic food groups” (chocolate cake, ice cream, soda, and cheesecake). At present, the following four foods are available for consumption: brownies, chocolate ice cream, cola, and pineapple cheese- cake. Each brownie costs 50¢, each scoop of chocolate ice cream costs 20¢, each bottle of cola costs 30¢, and each piece of pineapple cheesecake costs 80¢. Each day, I must in- gest at least 500 calories, 6 oz of chocolate, 10 oz of sugar, and 8 oz of fat. The nutri- tional content per unit of each food is shown in Table 2. Formulate a linear programming model that can be used to satisfy my daily nutritional requirements at minimum cost.\n",
    "\n",
    "Here is a reproduction of Table 2:\n",
    "\n",
    "Type of Food                  |Calories |Chocolate (Ounces) |Sugar (Ounces) |Fat (Ounces) \n",
    "----------                    |---------|--------------     |-------------- |------------\n",
    "Brownie                       |400      |3                  |2              |2\n",
    "Chocolate ice cream (1 scoop) |200      |2                  |2              |4\n",
    "Cola (1 bottle)               |150      |0                  |4              |1\n",
    "Pineapple cheesecake (1 piece)|500      |0                  |4              |5\n",
    "\n",
    "The problem is to formulate a linear programming model that satisfies the daily \"nutritional\" requirements at minimum cost."
   ]
  },
  {
   "cell_type": "code",
   "execution_count": 17,
   "metadata": {
    "scrolled": true
   },
   "outputs": [
    {
     "data": {
      "text/plain": [
       "4-element Array{Int64,1}:\n",
       " 500\n",
       "   6\n",
       "  10\n",
       "   8"
      ]
     },
     "execution_count": 17,
     "metadata": {},
     "output_type": "execute_result"
    }
   ],
   "source": [
    "# Defining the data\n",
    "foods = [\"brownie\", \"ice cream\", \"soda\", \"cheesecake\"]\n",
    "nutriCategories = [\"calories\", \"chocolate\", \"sugar\", \"fat\"]\n",
    "numFoods = length(foods)\n",
    "numCategories = length(nutriCategories)\n",
    "\n",
    "cost = [50, 20, 30, 80]\n",
    "nutritionValues = [\n",
    "    400 3 2 2;\n",
    "    200 2 2 4;\n",
    "    150 0 4 1;\n",
    "    500 0 4 5\n",
    "]\n",
    "\n",
    "#A = [\n",
    "#    400 200 150 500;\n",
    "#    3 2 0 0;\n",
    "#    2 2 4 4;\n",
    "#    2 4 1 5\n",
    "#]\n",
    "minNutrition = [500, 6, 10, 8]\n",
    ";"
   ]
  },
  {
   "cell_type": "code",
   "execution_count": 19,
   "metadata": {},
   "outputs": [
    {
     "name": "stdout",
     "output_type": "stream",
     "text": [
      "THE LP TO BE SOVLVED IS:\n"
     ]
    },
    {
     "data": {
      "text/latex": [
       "$$ \\begin{alignat*}{1}\\min\\quad & 50 x_{1} + 20 x_{2} + 30 x_{3} + 80 x_{4}\\\\\n",
       "\\text{Subject to} \\quad & x_{1} \\geq 0.0\\\\\n",
       " & x_{2} \\geq 0.0\\\\\n",
       " & x_{3} \\geq 0.0\\\\\n",
       " & x_{4} \\geq 0.0\\\\\n",
       " & 400 x_{1} + 200 x_{2} + 150 x_{3} + 500 x_{4} \\geq 500.0\\\\\n",
       " & 3 x_{1} + 2 x_{2} \\geq 6.0\\\\\n",
       " & 2 x_{1} + 2 x_{2} + 4 x_{3} + 4 x_{4} \\geq 10.0\\\\\n",
       " & 2 x_{1} + 4 x_{2} + x_{3} + 5 x_{4} \\geq 8.0\\\\\n",
       "\\end{alignat*}\n",
       " $$"
      ],
      "text/plain": [
       "A JuMP Model\n",
       "Minimization problem with:\n",
       "Variables: 4\n",
       "Objective function type: GenericAffExpr{Float64,VariableRef}\n",
       "`VariableRef`-in-`MathOptInterface.GreaterThan{Float64}`: 4 constraints\n",
       "`GenericAffExpr{Float64,VariableRef}`-in-`MathOptInterface.GreaterThan{Float64}`: 4 constraints\n",
       "Model mode: AUTOMATIC\n",
       "CachingOptimizer state: EMPTY_OPTIMIZER\n",
       "Solver name: GLPK\n",
       "Names registered in the model: x"
      ]
     },
     "execution_count": 19,
     "metadata": {},
     "output_type": "execute_result"
    }
   ],
   "source": [
    "# Building the model\n",
    "DietModel = Model(with_optimizer(GLPK.Optimizer))\n",
    "\n",
    "# Decision variables\n",
    "@variable(DietModel, x[1:numFoods] >= 0)\n",
    "\n",
    "# Objective function\n",
    "@objective(DietModel, Min, cost'*x) # dot(cost, x) not working, so used '*\n",
    "\n",
    "# Model constraints\n",
    "for j in 1:numCategories\n",
    "    @constraint(DietModel, nutritionValues[:,j]'*x >= minNutrition[j]) # dot(nutritionValues[:,j], x) not working so used '*\n",
    "end\n",
    "\n",
    "# Display model for sanity check!\n",
    "println(\"THE LP TO BE SOVLVED IS:\")\n",
    "DietModel"
   ]
  },
  {
   "cell_type": "markdown",
   "metadata": {},
   "source": [
    "Solving the model:"
   ]
  },
  {
   "cell_type": "code",
   "execution_count": 20,
   "metadata": {},
   "outputs": [
    {
     "name": "stdout",
     "output_type": "stream",
     "text": [
      "RESULTS:\n",
      " Min Cost = 90.0\n",
      "  brownie = 0.0\n",
      "  ice cream = 3.0\n",
      "  soda = 1.0000000000000002\n",
      "  cheesecake = 0.0\n",
      "\n"
     ]
    }
   ],
   "source": [
    "function PrintSolution(status, foods, x)\n",
    "    println(\"RESULTS:\")\n",
    "    if termination_status(ModelABC) == MOI.OPTIMAL\n",
    "        println(\" Min Cost = $(objective_value(DietModel))\")\n",
    "        for i in 1:length(foods)\n",
    "            println(\"  $(foods[i]) = $(value(x[i]))\")\n",
    "        end\n",
    "    else\n",
    "        println(\"  No solution\")\n",
    "    end\n",
    "    println(\"\")\n",
    "end\n",
    "\n",
    "status = optimize!(DietModel)\n",
    "PrintSolution(status, foods, x)"
   ]
  },
  {
   "cell_type": "markdown",
   "metadata": {},
   "source": [
    "We use the following function to get the constraints final values by calculating $A^T\\mathbf x$, where $A$ = nutritionValues:"
   ]
  },
  {
   "cell_type": "code",
   "execution_count": 29,
   "metadata": {},
   "outputs": [
    {
     "name": "stdout",
     "output_type": "stream",
     "text": [
      "The optimal diet provides:\n",
      " calories = 750.0\n",
      " chocolate = 6.0\n",
      " sugar = 10.0\n",
      " fat = 13.0\n"
     ]
    }
   ],
   "source": [
    "function PrintDietNutrition()\n",
    "    finalNutrition = transpose(nutritionValues)*value.(x[:]) # JuMP.value.(x[:])\n",
    "    println(\"The optimal diet provides:\")\n",
    "    for i in 1:length(nutriCategories)\n",
    "        println(\" $(nutriCategories[i]) = $(finalNutrition[i])\")\n",
    "    end\n",
    "end\n",
    "\n",
    "PrintDietNutrition()"
   ]
  },
  {
   "cell_type": "code",
   "execution_count": null,
   "metadata": {
    "collapsed": true
   },
   "outputs": [],
   "source": []
  }
 ],
 "metadata": {
  "kernelspec": {
   "display_name": "Julia 1.1.0",
   "language": "julia",
   "name": "julia-1.1"
  },
  "language_info": {
   "file_extension": ".jl",
   "mimetype": "application/julia",
   "name": "julia",
   "version": "1.1.0"
  }
 },
 "nbformat": 4,
 "nbformat_minor": 1
}
