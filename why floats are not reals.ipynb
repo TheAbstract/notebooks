{
 "cells": [
  {
   "cell_type": "markdown",
   "metadata": {},
   "source": [
    "# Floats ≠ $\\mathbb R$\n",
    "\n",
    "Computers represent numbers in binary digits, the language of 0s and 1s. This brief note explains how this is done, and why floats can only be considered as approximately real numbers.\n",
    "\n",
    "Our normal number system is represented in **base ten**, with the usual digits as follows;\n",
    "\n",
    "\\begin{align}\n",
    "437 &= 400 + 30 + 7 \\\\\n",
    "   &= 4(100) + 3(10) + 7(1) \\\\\n",
    "   &= 4(10^2) + 3(10^1) + 7(10^0)\n",
    "\\end{align}\n",
    "\n",
    "Binary numbers are represented in **base two** like this;\n",
    "\\begin{align}\n",
    "0 &= 0 \\\\\n",
    "1 &= 1 \\\\\n",
    "2 &= 1 0 \\\\\n",
    "3 &= 1 1 \\\\\n",
    "4 &= 1 0 0 \\\\\n",
    "5 &= 1 0 1 \\\\\n",
    "6 &= 1 1 0 \\\\\n",
    "7 &= 1 1 1 \\\\\n",
    "8 &= 1 0 0 0 \\\\\n",
    "9 &= 1 0 0 1\n",
    "\\end{align}\n",
    "\n",
    "Given a number $x$ in decimal form, we can find its binary form by hand. We simply subtract from $x$ the largest powers of two smaller $x$. By keeping track of what powers we used and did not, we will have the binary form.\n",
    "\n",
    "For example, 237 in binary is found as follows...\n",
    "\\begin{align}\n",
    "237 - 128 &= 109 \\\\\n",
    "109 - 64 &= 45 \\\\\n",
    "45 - 32 &= 13 \\\\\n",
    "13 - 8 &= 5 \\\\\n",
    "5 - 4 &= 1 \\\\\n",
    "1 - 1 &= 0\n",
    "\\end{align}\n",
    "\n",
    "and these are the powers of two that were used\n",
    "$$\n",
    "\\begin{matrix}\n",
    "2^8 & 2^7 & 2^6 & 2^5 & 2^4 & 2^3 & 2^2 & 2^1 & 2^0 \\\\\n",
    "256 & 128 & 64 & 32 & 16 & 8 & 4 & 2 & 1 \\\\\n",
    "\\hline\n",
    "  & 1 & 1 & 1 & 0 & 1 & 1 & 0 & 1 & \n",
    "\\end{matrix}\n",
    "$$\n",
    "The binary form of $237$ is $11101101$."
   ]
  },
  {
   "cell_type": "markdown",
   "metadata": {},
   "source": [
    "## A decimal $\\to$ binary function\n",
    "\n",
    "Suppose we have to convert $19$ to its binary representation. From above we know it should be;\n",
    "$x = 19 = 1(2^4) + 0(2^3) + 0(2^2) + 1(2^1) + 1(2^0) = 10011.$\n",
    "\n",
    "This is what the function needs to do;\n",
    "1. Take the remainder relative to 2 (`x%2`), gives us the last binary bit.\n",
    "2. Then integer division by 2 (`x//2`), this shifts all the bits to the right\n",
    "    * `x//2` $= 1(2^3) + 0(2^2) + 0(2^1) + 1(2^0) = 1001$\n",
    "\n",
    "Repeating this process will give us the rest of the bits.\n",
    "\n",
    "> **Note:** The function should be able to handle negative integers."
   ]
  },
  {
   "cell_type": "code",
   "execution_count": 1,
   "metadata": {},
   "outputs": [],
   "source": [
    "def decimalToBinary(x):\n",
    "    '''\n",
    "    Given an integer x, computes its binary representation.\n",
    "    '''\n",
    "    result = ''\n",
    "    if x < 0:\n",
    "        isNeg = True\n",
    "        x = abs(x)\n",
    "    else:\n",
    "        isNeg = False\n",
    "    \n",
    "    if x == 0:\n",
    "        result = '0'\n",
    "    while x > 0:\n",
    "        result = str(x % 2) + result\n",
    "        x = x // 2\n",
    "    if isNeg:\n",
    "        result = '-' + result\n",
    "    print(f'The binary representation of {x} is {result}.')"
   ]
  },
  {
   "cell_type": "code",
   "execution_count": 2,
   "metadata": {},
   "outputs": [
    {
     "name": "stdout",
     "output_type": "stream",
     "text": [
      "The binary representation of 0 is 10011.\n"
     ]
    }
   ],
   "source": [
    "decimalToBinary(19)"
   ]
  },
  {
   "cell_type": "code",
   "execution_count": 3,
   "metadata": {},
   "outputs": [
    {
     "name": "stdout",
     "output_type": "stream",
     "text": [
      "The binary representation of 0 is 11101101.\n"
     ]
    }
   ],
   "source": [
    "decimalToBinary(237)"
   ]
  },
  {
   "cell_type": "markdown",
   "metadata": {},
   "source": [
    "## What about Fractions?"
   ]
  },
  {
   "cell_type": "code",
   "execution_count": 4,
   "metadata": {},
   "outputs": [
    {
     "name": "stdout",
     "output_type": "stream",
     "text": [
      "The binary representation of 0.0 is 0.375.\n"
     ]
    }
   ],
   "source": [
    "decimalToBinary(3/8)"
   ]
  },
  {
   "cell_type": "markdown",
   "metadata": {},
   "source": [
    "Clearly this is wrong, we didn't pass the function zero and $0.375$ is what we want the binary representation of! So the function needs to be updated.\n",
    "\n",
    "For $x = 3/8$ we know that;\n",
    "$$\n",
    "3/8 = 0.375 = 3(10^{-1}) + 7(10^{-2}) + 5(10^{-3}).\n",
    "$$\n",
    "\n",
    "To get the binary form we do the following:\n",
    "\n",
    "1. Multiply $x$ by a power of $2$ large enough to convert it into a whole number.\n",
    "2. Convert this whole number into binary.\n",
    "3. Divide the result by the power of $2$ used in step 1. (The integer part of this step tells you by how much to shift the decimal point)\n",
    "\n",
    "For our example...\n",
    "1. $0.375 (2^3) = 3$ (decimal form)\n",
    "2. $3$ in binary is $11$\n",
    "3. Dividing by $2^3$ gives $1.375$ so we shift one place from $0.11$ to get $0.011$, which is $0.375$ in binary form\n",
    "\n",
    "> **Note:** If there is no integer $p$ such that $x\\times(2^p)$ is a whole number, then the internal representation will always be an approximation. This is why testing for the equality (`==`) of floats is not exact, and will lead to very bizarre behaviour."
   ]
  },
  {
   "cell_type": "code",
   "execution_count": 5,
   "metadata": {},
   "outputs": [
    {
     "name": "stdout",
     "output_type": "stream",
     "text": [
      "WTF...?\n"
     ]
    }
   ],
   "source": [
    "x = 0.1 + 0.2\n",
    "if x == 0.3:\n",
    "    print('Duh...')\n",
    "else:\n",
    "    print('WTF...?')"
   ]
  },
  {
   "cell_type": "markdown",
   "metadata": {},
   "source": [
    "> When dealing with floats, instead of `x == y` use `abs(x - y) <` $\\epsilon$. Where $\\epsilon$ is some very small tolerance level.\n",
    "\n",
    "## Back to the function..."
   ]
  },
  {
   "cell_type": "code",
   "execution_count": 6,
   "metadata": {},
   "outputs": [],
   "source": [
    "def fractionToBinary(x):\n",
    "    '''\n",
    "    Given a decimal number between 0 and 1, computes binary representation.\n",
    "    '''\n",
    "    result = ''\n",
    "    p = 0\n",
    "    while ((2**p)*x) % 1 != 0:\n",
    "        p += 1\n",
    "\n",
    "    num = int(x*(2**p))\n",
    "    if num == 0:\n",
    "        result = '0'\n",
    "    while num > 0:\n",
    "        result = str(num%2) + result\n",
    "        num = num//2\n",
    "\n",
    "    for i in range(p - len(result)):\n",
    "        result = '0' + result\n",
    "    print(f'The binary representation of the decimal {x} is 0.{result}.')"
   ]
  },
  {
   "cell_type": "code",
   "execution_count": 7,
   "metadata": {},
   "outputs": [
    {
     "name": "stdout",
     "output_type": "stream",
     "text": [
      "The binary representation of the decimal 0.375 is 0.011.\n"
     ]
    }
   ],
   "source": [
    "fractionToBinary(3/8)"
   ]
  },
  {
   "cell_type": "markdown",
   "metadata": {},
   "source": [
    "---"
   ]
  }
 ],
 "metadata": {
  "kernelspec": {
   "display_name": "Python 3",
   "language": "python",
   "name": "python3"
  },
  "language_info": {
   "codemirror_mode": {
    "name": "ipython",
    "version": 3
   },
   "file_extension": ".py",
   "mimetype": "text/x-python",
   "name": "python",
   "nbconvert_exporter": "python",
   "pygments_lexer": "ipython3",
   "version": "3.8.3"
  }
 },
 "nbformat": 4,
 "nbformat_minor": 1
}
