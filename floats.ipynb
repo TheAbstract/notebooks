{
 "cells": [
  {
   "cell_type": "markdown",
   "metadata": {},
   "source": [
    "# Floats are not Reals\n",
    "\n",
    "Computers represent numbers in binary digits, the language of 0s and 1s. This brief note explains how this is done, and why floats can only be considered as approximatly real numbers.\n",
    "\n",
    "Our nurmal number system is represented in **base ten**, with the usual digits as follows;\n",
    "\n",
    "\\begin{align}\n",
    "437 &= 400 + 30 + 7 \\\\\n",
    "   &= 4(100) + 3(10) + 7(1) \\\\\n",
    "   &= 4(10^2) + 3(10^1) + 7(10^0)\n",
    "\\end{align}\n",
    "\n",
    "Binary numbers are represented in **base two** like this;\n",
    "\\begin{align}\n",
    "0 &= 0 \\\\\n",
    "1 &= 1 \\\\\n",
    "2 &= 1 0 \\\\\n",
    "3 &= 1 1 \\\\\n",
    "4 &= 1 0 0 \\\\\n",
    "5 &= 1 0 1 \\\\\n",
    "6 &= 1 1 0 \\\\\n",
    "7 &= 1 1 1 \\\\\n",
    "8 &= 1 0 0 0 \\\\\n",
    "9 &= 1 0 0 1\n",
    "\\end{align}\n",
    "\n",
    "Given a number $x$ in decimal form, we can find it's binary form by hand. We simply substract from $x$ the largest powers of two smaller $x$. By keeping track of what powers we used and did not, we will have the binary form.\n",
    "\n",
    "For example, 237 in binary is found as follows...\n",
    "\\begin{align}\n",
    "237 - 128 &= 109 \\\\\n",
    "109 - 64 &= 45 \\\\\n",
    "45 - 32 &= 13 \\\\\n",
    "13 - 8 &= 5 \\\\\n",
    "5 - 4 &= 1 \\\\\n",
    "1 - 1 &= 0\n",
    "\\end{align}\n",
    "\n",
    "and these are the powers of two that were used\n",
    "$$\n",
    "\\begin{matrix}\n",
    "2^8 & 2^7 & 2^6 & 2^5 & 2^4 & 2^3 & 2^2 & 2^1 & 2^0 \\\\\n",
    "256 & 128 & 64 & 32 & 16 & 8 & 4 & 2 & 1 \\\\\n",
    "\\hline\n",
    "  & 1 & 1 & 1 & 0 & 1 & 1 & 0 & 1 & \n",
    "\\end{matrix}\n",
    "$$\n",
    "The binary form of $237$ is $11101101$."
   ]
  },
  {
   "cell_type": "markdown",
   "metadata": {},
   "source": [
    "## A decimal $\\to$ binary function\n",
    "\n",
    "Supppose we have to convert $19$ to its binary representation. From above we know it should be;\n",
    "$x = 19 = 1(2^4) + 0(2^3) + 0(2^2) + 1(2^1) + 1(2^0) = 10011.$\n",
    "\n",
    "This is what the function needs to do;\n",
    "1. Take the remainder relative to 2 (`x%2`), gives us the last binary bit.\n",
    "2. Then integer division by 2 (`x//2`), this shifts all the bits to the right\n",
    "    * `x//2` $= 1(2^3) + 0(2^2) + 0(2^1) + 1(2^0) = 1001$\n",
    "\n",
    "Repeating this process will give us the rest of the bits.\n",
    "\n",
    "> Note: The function should be able to handle negative integers."
   ]
  },
  {
   "cell_type": "code",
   "execution_count": 12,
   "metadata": {},
   "outputs": [],
   "source": [
    "def binaryToDecimal(x):\n",
    "    '''\n",
    "    Given an integer x, returns its binary representation.\n",
    "    '''\n",
    "    result = ''\n",
    "    if x < 0:\n",
    "        isNeg = True\n",
    "        x = abs(x)\n",
    "    else:\n",
    "        isNeg = False\n",
    "    \n",
    "    if x == 0:\n",
    "        result = '0'\n",
    "    while x > 0:\n",
    "        result = str(x % 2) + result\n",
    "        x = x // 2\n",
    "    if isNeg:\n",
    "        result = '-' + result\n",
    "    print(f'The binary representation of {x} is {result}.')"
   ]
  },
  {
   "cell_type": "code",
   "execution_count": 13,
   "metadata": {},
   "outputs": [
    {
     "name": "stdout",
     "output_type": "stream",
     "text": [
      "The binary representation of 0 is 10011.\n"
     ]
    }
   ],
   "source": [
    "binaryToDecimal(19)"
   ]
  },
  {
   "cell_type": "code",
   "execution_count": 14,
   "metadata": {},
   "outputs": [
    {
     "name": "stdout",
     "output_type": "stream",
     "text": [
      "The binary representation of 0 is 11101101.\n"
     ]
    }
   ],
   "source": [
    "binaryToDecimal(237)"
   ]
  },
  {
   "cell_type": "markdown",
   "metadata": {},
   "source": []
  },
  {
   "cell_type": "code",
   "execution_count": 7,
   "metadata": {},
   "outputs": [
    {
     "name": "stdout",
     "output_type": "stream",
     "text": [
      "Enter a decimal number between 0 and 1: 0.5\n",
      "Remainder = 0.5\n",
      "The binary representation of the decimal 0.5 is .1\n"
     ]
    }
   ],
   "source": []
  }
 ],
 "metadata": {
  "kernelspec": {
   "display_name": "Python 3",
   "language": "python",
   "name": "python3"
  },
  "language_info": {
   "codemirror_mode": {
    "name": "ipython",
    "version": 3
   },
   "file_extension": ".py",
   "mimetype": "text/x-python",
   "name": "python",
   "nbconvert_exporter": "python",
   "pygments_lexer": "ipython3",
   "version": "3.8.3"
  }
 },
 "nbformat": 4,
 "nbformat_minor": 1
}
